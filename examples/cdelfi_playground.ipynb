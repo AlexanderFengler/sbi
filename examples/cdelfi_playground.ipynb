{
 "cells": [
  {
   "cell_type": "code",
   "execution_count": null,
   "metadata": {},
   "outputs": [],
   "source": [
    "import torch\n",
    "\n",
    "import os\n",
    "os.environ[\"LFI_PROJECT_DIR\"] = '/home/ge57buc/code/lfi_mackelab/'\n",
    "\n",
    "import sbi.inference as inference\n",
    "import sbi.simulators as simulators\n",
    "import sbi.utils as utils\n",
    "\n",
    "from matplotlib import pyplot as plt\n",
    "\n",
    "# use GPU if available\n",
    "if torch.cuda.is_available():\n",
    "    device = torch.device(\"cuda\")\n",
    "    torch.set_default_tensor_type(\"torch.cuda.FloatTensor\")\n",
    "else:\n",
    "    device = torch.device(\"cpu\")\n",
    "    torch.set_default_tensor_type(\"torch.FloatTensor\")\n",
    "\n",
    "# get simulator and prior\n",
    "simulator, prior = simulators.get_simulator_and_prior(\"nonlinear-gaussian\")\n",
    "\n",
    "# get neural posterior (here a MAF)\n",
    "neural_posterior = utils.get_neural_posterior(\n",
    "    \"mdn-1\",\n",
    "    parameter_dim=simulator.parameter_dim,\n",
    "    observation_dim=simulator.observation_dim,\n",
    "    simulator=simulator,\n",
    ")\n",
    "\n",
    "# create inference method\n",
    "inference_method = inference.CDELFI(\n",
    "    simulator=simulator,\n",
    "    prior=prior,\n",
    "    true_observation=simulator.get_ground_truth_observation(),\n",
    "    neural_posterior=neural_posterior,\n",
    ")\n",
    "\n",
    "# run inference\n",
    "inference_method.run_inference(num_rounds=4, num_simulations_per_round=500, num_components=20)\n",
    "\n",
    "# sample posterior\n",
    "samples = inference_method.sample_posterior(num_samples=10000)\n",
    "\n",
    "# plot samples\n",
    "utils.plot_hist_marginals(\n",
    "    utils.tensor2numpy(samples),\n",
    "    lims=simulator.parameter_plotting_limits,\n",
    "    ground_truth=utils.tensor2numpy(simulator.get_ground_truth_parameters()).reshape(\n",
    "        -1\n",
    "    ),\n",
    ")\n",
    "plt.show()"
   ]
  },
  {
   "cell_type": "code",
   "execution_count": null,
   "metadata": {},
   "outputs": [],
   "source": [
    "inference_method._neural_posterior._hidden_net"
   ]
  },
  {
   "cell_type": "code",
   "execution_count": null,
   "metadata": {},
   "outputs": [],
   "source": [
    "inference_method._neural_posterior._hidden_net[5].weight.device"
   ]
  },
  {
   "cell_type": "code",
   "execution_count": null,
   "metadata": {},
   "outputs": [],
   "source": [
    "simulator.get_ground_truth_observation()"
   ]
  },
  {
   "cell_type": "code",
   "execution_count": null,
   "metadata": {},
   "outputs": [],
   "source": [
    "torch.get_"
   ]
  },
  {
   "cell_type": "code",
   "execution_count": null,
   "metadata": {},
   "outputs": [],
   "source": [
    "logits, means, precisions, _, _ = inference_method._neural_posterior.get_mixture_components(simulator.get_ground_truth_observation())\n",
    "m0, P0 = torch.zeros(5), torch.eye(5)\n",
    "mp, Pp = torch.ones(5), 2*torch.eye(5)\n",
    "out = inference_method._neural_posterior.posthoc_correction(logits, means, precisions, m0, P0, mp, Pp)\n",
    "[out[i].shape for i in range(len(out))]"
   ]
  },
  {
   "cell_type": "code",
   "execution_count": null,
   "metadata": {},
   "outputs": [],
   "source": [
    "logits.requires_grad, means.requires_grad, precisions.requires_grad"
   ]
  },
  {
   "cell_type": "code",
   "execution_count": null,
   "metadata": {},
   "outputs": [],
   "source": [
    "# plot samples\n",
    "samples = inference_method.sample_posterior(num_samples=10000)\n",
    "\n",
    "utils.plot_hist_marginals(\n",
    "    utils.tensor2numpy(samples),\n",
    "    lims=simulator.parameter_plotting_limits,\n",
    "    ground_truth=utils.tensor2numpy(simulator.get_ground_truth_parameters()).reshape(\n",
    "        -1\n",
    "    ),\n",
    ")\n",
    "plt.show()"
   ]
  },
  {
   "cell_type": "code",
   "execution_count": null,
   "metadata": {},
   "outputs": [],
   "source": [
    "# plot samples\n",
    "proposal = inference_method._model_bank[0].get_mixture_components(simulator.get_ground_truth_observation())\n",
    "\n",
    "samples = inference_method._neural_posterior.sample(\n",
    "                                           num_samples=10000,\n",
    "                                           context=simulator.get_ground_truth_observation().reshape(1,-1),\n",
    "                                           correction_factors={\n",
    "                                               'm0' : (prior.high-prior.low)/2.,\n",
    "                                               'P0' : 1e-6 * torch.eye(prior.high.shape[0]),\n",
    "                                               'mp' : proposal[1].squeeze(),\n",
    "                                               'Pp' : proposal[2].squeeze()\n",
    "                                           }).squeeze()\n",
    "\n",
    "utils.plot_hist_marginals(\n",
    "    utils.tensor2numpy(samples),\n",
    "    lims=simulator.parameter_plotting_limits,\n",
    "    ground_truth=utils.tensor2numpy(simulator.get_ground_truth_parameters()).reshape(\n",
    "        -1\n",
    "    ),\n",
    ")\n",
    "plt.show()"
   ]
  },
  {
   "cell_type": "code",
   "execution_count": null,
   "metadata": {},
   "outputs": [],
   "source": [
    "a, b  = torch.ones((1,1)), torch.zeros((1,1))\n",
    "c = torch.mm(a,b)\n",
    "a.requires_grad, b.requires_grad, c.requires_grad"
   ]
  },
  {
   "cell_type": "code",
   "execution_count": null,
   "metadata": {},
   "outputs": [],
   "source": []
  }
 ],
 "metadata": {
  "kernelspec": {
   "display_name": "Python 3",
   "language": "python",
   "name": "python3"
  },
  "language_info": {
   "codemirror_mode": {
    "name": "ipython",
    "version": 3
   },
   "file_extension": ".py",
   "mimetype": "text/x-python",
   "name": "python",
   "nbconvert_exporter": "python",
   "pygments_lexer": "ipython3",
   "version": "3.7.4"
  }
 },
 "nbformat": 4,
 "nbformat_minor": 2
}
